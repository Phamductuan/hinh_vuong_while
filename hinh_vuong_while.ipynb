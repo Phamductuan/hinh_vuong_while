{
 "cells": [
  {
   "cell_type": "code",
   "execution_count": 3,
   "id": "cdd41e88",
   "metadata": {},
   "outputs": [
    {
     "name": "stdout",
     "output_type": "stream",
     "text": [
      "nhap do dai cac canh hinh vuong: 4\n"
     ]
    }
   ],
   "source": [
    "import turtle\n",
    "a = int(input(\"nhap do dai cac canh hinh vuong: \"))\n",
    "t= turtle. Turtle()\n",
    "t.fillcolor(\"red\")\n",
    "t.begin_fill()\n",
    "edge = 0\n",
    "while edge <= 4:\n",
    "    edge += 1\n",
    "    t.fd(a)\n",
    "    t.lt(90)\n",
    "t.end_fill()\n",
    "turtle.done()\n"
   ]
  }
 ],
 "metadata": {
  "kernelspec": {
   "display_name": "Python 3 (ipykernel)",
   "language": "python",
   "name": "python3"
  },
  "language_info": {
   "codemirror_mode": {
    "name": "ipython",
    "version": 3
   },
   "file_extension": ".py",
   "mimetype": "text/x-python",
   "name": "python",
   "nbconvert_exporter": "python",
   "pygments_lexer": "ipython3",
   "version": "3.9.6"
  }
 },
 "nbformat": 4,
 "nbformat_minor": 5
}
